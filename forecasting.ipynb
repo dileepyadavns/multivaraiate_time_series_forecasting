{
  "nbformat": 4,
  "nbformat_minor": 0,
  "metadata": {
    "colab": {
      "provenance": [],
      "collapsed_sections": [],
      "mount_file_id": "1jfYmEYEaNU4MWG1KmKNkt2mDbYleHniT",
      "authorship_tag": "ABX9TyPaQawZlZHuYFzvn6mIv8LH",
      "include_colab_link": true
    },
    "kernelspec": {
      "name": "python3",
      "display_name": "Python 3"
    },
    "language_info": {
      "name": "python"
    }
  },
  "cells": [
    {
      "cell_type": "markdown",
      "metadata": {
        "id": "view-in-github",
        "colab_type": "text"
      },
      "source": [
        "<a href=\"https://colab.research.google.com/github/dileepyadavns/multivaraiate_time_series_forecasting/blob/main/forecasting.ipynb\" target=\"_parent\"><img src=\"https://colab.research.google.com/assets/colab-badge.svg\" alt=\"Open In Colab\"/></a>"
      ]
    },
    {
      "cell_type": "code",
      "source": [
        "import numpy as np\n",
        "import pandas as pd\n",
        "from datetime import datetime\n",
        "from math import sqrt\n",
        "from numpy import concatenate\n",
        "from matplotlib import pyplot\n",
        "import matplotlib.pyplot as plt\n",
        "# from pandas import read_csv\n",
        "# from pandas import DataFrame\n",
        "from pandas import concat\n",
        "from sklearn.preprocessing import MinMaxScaler\n",
        "from sklearn.preprocessing import LabelEncoder\n",
        "from sklearn.metrics import mean_squared_error\n",
        "from keras.models import Sequential\n",
        "from keras.layers import Dense,Dropout\n",
        "from keras.layers import LSTM"
      ],
      "metadata": {
        "id": "2Htw4Dd7l4QA"
      },
      "execution_count": null,
      "outputs": []
    },
    {
      "cell_type": "code",
      "source": [
        "dataset_train = pd.read_csv('/content/train.csv',header=0, index_col=0)  \n",
        "dataset_train.head(2)"
      ],
      "metadata": {
        "colab": {
          "base_uri": "https://localhost:8080/",
          "height": 277
        },
        "id": "RQFTSQJvl7CI",
        "outputId": "5b0bacc7-0f80-49fd-b5a9-5403bf7be439"
      },
      "execution_count": null,
      "outputs": [
        {
          "output_type": "execute_result",
          "data": {
            "text/plain": [
              "                  nat_demand    T2M_toc  QV2M_toc   TQL_toc    W2M_toc  \\\n",
              "datetime                                                                 \n",
              "03-01-2015 01:00    970.3450  25.865259  0.018576  0.016174  21.850546   \n",
              "03-01-2015 02:00    912.1755  25.899255  0.018653  0.016418  22.166944   \n",
              "\n",
              "                    T2M_san  QV2M_san   TQL_san    W2M_san    T2M_dav  \\\n",
              "datetime                                                                \n",
              "03-01-2015 01:00  23.482446  0.017272  0.001855  10.328949  22.662134   \n",
              "03-01-2015 02:00  23.399255  0.017265  0.001327  10.681517  22.578943   \n",
              "\n",
              "                  QV2M_dav   TQL_dav   W2M_dav  Holiday_ID  holiday  school  \n",
              "datetime                                                                     \n",
              "03-01-2015 01:00  0.016562  0.096100  5.364148           0        0       0  \n",
              "03-01-2015 02:00  0.016509  0.087646  5.572471           0        0       0  "
            ],
            "text/html": [
              "\n",
              "  <div id=\"df-3a40137f-036e-4514-946c-8c2b2a20b6fa\">\n",
              "    <div class=\"colab-df-container\">\n",
              "      <div>\n",
              "<style scoped>\n",
              "    .dataframe tbody tr th:only-of-type {\n",
              "        vertical-align: middle;\n",
              "    }\n",
              "\n",
              "    .dataframe tbody tr th {\n",
              "        vertical-align: top;\n",
              "    }\n",
              "\n",
              "    .dataframe thead th {\n",
              "        text-align: right;\n",
              "    }\n",
              "</style>\n",
              "<table border=\"1\" class=\"dataframe\">\n",
              "  <thead>\n",
              "    <tr style=\"text-align: right;\">\n",
              "      <th></th>\n",
              "      <th>nat_demand</th>\n",
              "      <th>T2M_toc</th>\n",
              "      <th>QV2M_toc</th>\n",
              "      <th>TQL_toc</th>\n",
              "      <th>W2M_toc</th>\n",
              "      <th>T2M_san</th>\n",
              "      <th>QV2M_san</th>\n",
              "      <th>TQL_san</th>\n",
              "      <th>W2M_san</th>\n",
              "      <th>T2M_dav</th>\n",
              "      <th>QV2M_dav</th>\n",
              "      <th>TQL_dav</th>\n",
              "      <th>W2M_dav</th>\n",
              "      <th>Holiday_ID</th>\n",
              "      <th>holiday</th>\n",
              "      <th>school</th>\n",
              "    </tr>\n",
              "    <tr>\n",
              "      <th>datetime</th>\n",
              "      <th></th>\n",
              "      <th></th>\n",
              "      <th></th>\n",
              "      <th></th>\n",
              "      <th></th>\n",
              "      <th></th>\n",
              "      <th></th>\n",
              "      <th></th>\n",
              "      <th></th>\n",
              "      <th></th>\n",
              "      <th></th>\n",
              "      <th></th>\n",
              "      <th></th>\n",
              "      <th></th>\n",
              "      <th></th>\n",
              "      <th></th>\n",
              "    </tr>\n",
              "  </thead>\n",
              "  <tbody>\n",
              "    <tr>\n",
              "      <th>03-01-2015 01:00</th>\n",
              "      <td>970.3450</td>\n",
              "      <td>25.865259</td>\n",
              "      <td>0.018576</td>\n",
              "      <td>0.016174</td>\n",
              "      <td>21.850546</td>\n",
              "      <td>23.482446</td>\n",
              "      <td>0.017272</td>\n",
              "      <td>0.001855</td>\n",
              "      <td>10.328949</td>\n",
              "      <td>22.662134</td>\n",
              "      <td>0.016562</td>\n",
              "      <td>0.096100</td>\n",
              "      <td>5.364148</td>\n",
              "      <td>0</td>\n",
              "      <td>0</td>\n",
              "      <td>0</td>\n",
              "    </tr>\n",
              "    <tr>\n",
              "      <th>03-01-2015 02:00</th>\n",
              "      <td>912.1755</td>\n",
              "      <td>25.899255</td>\n",
              "      <td>0.018653</td>\n",
              "      <td>0.016418</td>\n",
              "      <td>22.166944</td>\n",
              "      <td>23.399255</td>\n",
              "      <td>0.017265</td>\n",
              "      <td>0.001327</td>\n",
              "      <td>10.681517</td>\n",
              "      <td>22.578943</td>\n",
              "      <td>0.016509</td>\n",
              "      <td>0.087646</td>\n",
              "      <td>5.572471</td>\n",
              "      <td>0</td>\n",
              "      <td>0</td>\n",
              "      <td>0</td>\n",
              "    </tr>\n",
              "  </tbody>\n",
              "</table>\n",
              "</div>\n",
              "      <button class=\"colab-df-convert\" onclick=\"convertToInteractive('df-3a40137f-036e-4514-946c-8c2b2a20b6fa')\"\n",
              "              title=\"Convert this dataframe to an interactive table.\"\n",
              "              style=\"display:none;\">\n",
              "        \n",
              "  <svg xmlns=\"http://www.w3.org/2000/svg\" height=\"24px\"viewBox=\"0 0 24 24\"\n",
              "       width=\"24px\">\n",
              "    <path d=\"M0 0h24v24H0V0z\" fill=\"none\"/>\n",
              "    <path d=\"M18.56 5.44l.94 2.06.94-2.06 2.06-.94-2.06-.94-.94-2.06-.94 2.06-2.06.94zm-11 1L8.5 8.5l.94-2.06 2.06-.94-2.06-.94L8.5 2.5l-.94 2.06-2.06.94zm10 10l.94 2.06.94-2.06 2.06-.94-2.06-.94-.94-2.06-.94 2.06-2.06.94z\"/><path d=\"M17.41 7.96l-1.37-1.37c-.4-.4-.92-.59-1.43-.59-.52 0-1.04.2-1.43.59L10.3 9.45l-7.72 7.72c-.78.78-.78 2.05 0 2.83L4 21.41c.39.39.9.59 1.41.59.51 0 1.02-.2 1.41-.59l7.78-7.78 2.81-2.81c.8-.78.8-2.07 0-2.86zM5.41 20L4 18.59l7.72-7.72 1.47 1.35L5.41 20z\"/>\n",
              "  </svg>\n",
              "      </button>\n",
              "      \n",
              "  <style>\n",
              "    .colab-df-container {\n",
              "      display:flex;\n",
              "      flex-wrap:wrap;\n",
              "      gap: 12px;\n",
              "    }\n",
              "\n",
              "    .colab-df-convert {\n",
              "      background-color: #E8F0FE;\n",
              "      border: none;\n",
              "      border-radius: 50%;\n",
              "      cursor: pointer;\n",
              "      display: none;\n",
              "      fill: #1967D2;\n",
              "      height: 32px;\n",
              "      padding: 0 0 0 0;\n",
              "      width: 32px;\n",
              "    }\n",
              "\n",
              "    .colab-df-convert:hover {\n",
              "      background-color: #E2EBFA;\n",
              "      box-shadow: 0px 1px 2px rgba(60, 64, 67, 0.3), 0px 1px 3px 1px rgba(60, 64, 67, 0.15);\n",
              "      fill: #174EA6;\n",
              "    }\n",
              "\n",
              "    [theme=dark] .colab-df-convert {\n",
              "      background-color: #3B4455;\n",
              "      fill: #D2E3FC;\n",
              "    }\n",
              "\n",
              "    [theme=dark] .colab-df-convert:hover {\n",
              "      background-color: #434B5C;\n",
              "      box-shadow: 0px 1px 3px 1px rgba(0, 0, 0, 0.15);\n",
              "      filter: drop-shadow(0px 1px 2px rgba(0, 0, 0, 0.3));\n",
              "      fill: #FFFFFF;\n",
              "    }\n",
              "  </style>\n",
              "\n",
              "      <script>\n",
              "        const buttonEl =\n",
              "          document.querySelector('#df-3a40137f-036e-4514-946c-8c2b2a20b6fa button.colab-df-convert');\n",
              "        buttonEl.style.display =\n",
              "          google.colab.kernel.accessAllowed ? 'block' : 'none';\n",
              "\n",
              "        async function convertToInteractive(key) {\n",
              "          const element = document.querySelector('#df-3a40137f-036e-4514-946c-8c2b2a20b6fa');\n",
              "          const dataTable =\n",
              "            await google.colab.kernel.invokeFunction('convertToInteractive',\n",
              "                                                     [key], {});\n",
              "          if (!dataTable) return;\n",
              "\n",
              "          const docLinkHtml = 'Like what you see? Visit the ' +\n",
              "            '<a target=\"_blank\" href=https://colab.research.google.com/notebooks/data_table.ipynb>data table notebook</a>'\n",
              "            + ' to learn more about interactive tables.';\n",
              "          element.innerHTML = '';\n",
              "          dataTable['output_type'] = 'display_data';\n",
              "          await google.colab.output.renderOutput(dataTable, element);\n",
              "          const docLink = document.createElement('div');\n",
              "          docLink.innerHTML = docLinkHtml;\n",
              "          element.appendChild(docLink);\n",
              "        }\n",
              "      </script>\n",
              "    </div>\n",
              "  </div>\n",
              "  "
            ]
          },
          "metadata": {},
          "execution_count": 7
        }
      ]
    },
    {
      "cell_type": "code",
      "source": [
        "print(type(dataset_train))\n",
        "dataset_train.shape"
      ],
      "metadata": {
        "colab": {
          "base_uri": "https://localhost:8080/"
        },
        "id": "skmERu70mAho",
        "outputId": "36220c44-4e48-481b-9c2c-8592e164ca64"
      },
      "execution_count": null,
      "outputs": [
        {
          "output_type": "stream",
          "name": "stdout",
          "text": [
            "<class 'pandas.core.frame.DataFrame'>\n"
          ]
        },
        {
          "output_type": "execute_result",
          "data": {
            "text/plain": [
              "(43775, 16)"
            ]
          },
          "metadata": {},
          "execution_count": 8
        }
      ]
    },
    {
      "cell_type": "code",
      "source": [
        "dataset_columns = dataset_train.columns.tolist()\n",
        "dataset_columns"
      ],
      "metadata": {
        "colab": {
          "base_uri": "https://localhost:8080/"
        },
        "id": "XpYbuxQhmDya",
        "outputId": "f0ef83b8-0ecd-4b4c-e1b7-cea47feb38d0"
      },
      "execution_count": null,
      "outputs": [
        {
          "output_type": "execute_result",
          "data": {
            "text/plain": [
              "['nat_demand',\n",
              " 'T2M_toc',\n",
              " 'QV2M_toc',\n",
              " 'TQL_toc',\n",
              " 'W2M_toc',\n",
              " 'T2M_san',\n",
              " 'QV2M_san',\n",
              " 'TQL_san',\n",
              " 'W2M_san',\n",
              " 'T2M_dav',\n",
              " 'QV2M_dav',\n",
              " 'TQL_dav',\n",
              " 'W2M_dav',\n",
              " 'Holiday_ID',\n",
              " 'holiday',\n",
              " 'school']"
            ]
          },
          "metadata": {},
          "execution_count": 9
        }
      ]
    },
    {
      "cell_type": "code",
      "source": [
        "cor_cols = dataset_columns\n",
        "plt.matshow(dataset_train.corr())\n",
        "plt.xticks(range(len(cor_cols)), cor_cols)\n",
        "plt.yticks(range(len(cor_cols)), cor_cols)\n",
        "plt.colorbar()\n",
        "plt.show()"
      ],
      "metadata": {
        "colab": {
          "base_uri": "https://localhost:8080/",
          "height": 264
        },
        "id": "NATCxZYXmHGn",
        "outputId": "a6f41c73-2bae-49bd-b757-7417cf30b65f"
      },
      "execution_count": null,
      "outputs": [
        {
          "output_type": "display_data",
          "data": {
            "text/plain": [
              "<Figure size 288x288 with 2 Axes>"
            ],
            "image/png": "[encoded data removed]"
          },
          "metadata": {
            "needs_background": "light"
          }
        }
      ]
    },
    {
      "cell_type": "code",
      "source": [
        "values = dataset_train.values\n",
        "print(values.shape)\n",
        "print(type(values))\n",
        "values[0]"
      ],
      "metadata": {
        "colab": {
          "base_uri": "https://localhost:8080/"
        },
        "id": "-MP1GL6RmLAp",
        "outputId": "541e266c-7409-41db-8c44-21ee55caade8"
      },
      "execution_count": null,
      "outputs": [
        {
          "output_type": "stream",
          "name": "stdout",
          "text": [
            "(43775, 16)\n",
            "<class 'numpy.ndarray'>\n"
          ]
        },
        {
          "output_type": "execute_result",
          "data": {
            "text/plain": [
              "array([9.70345000e+02, 2.58652588e+01, 1.85763820e-02, 1.61743160e-02,\n",
              "       2.18505458e+01, 2.34824463e+01, 1.72717550e-02, 1.85537300e-03,\n",
              "       1.03289487e+01, 2.26621338e+01, 1.65622220e-02, 9.60998500e-02,\n",
              "       5.36414795e+00, 0.00000000e+00, 0.00000000e+00, 0.00000000e+00])"
            ]
          },
          "metadata": {},
          "execution_count": 11
        }
      ]
    },
    {
      "cell_type": "code",
      "source": [
        "# normalized the features\n",
        "scaler = MinMaxScaler(feature_range=(0, 1))\n",
        "scaled_dataset = scaler.fit_transform(values)\n",
        "scaled_dataset[0]"
      ],
      "metadata": {
        "colab": {
          "base_uri": "https://localhost:8080/"
        },
        "id": "ewo6Exv3mONr",
        "outputId": "336da86a-a365-4873-e4d2-42d65146afc8"
      },
      "execution_count": null,
      "outputs": [
        {
          "output_type": "execute_result",
          "data": {
            "text/plain": [
              "array([0.5409399 , 0.24092133, 0.61321832, 0.03103044, 0.55688809,\n",
              "       0.19262007, 0.59236179, 0.00380735, 0.42043586, 0.19103092,\n",
              "       0.61106557, 0.20105082, 0.52063079, 0.        , 0.        ,\n",
              "       0.        ])"
            ]
          },
          "metadata": {},
          "execution_count": 12
        }
      ]
    },
    {
      "cell_type": "code",
      "source": [
        "def to_supervised(train):\n",
        "  window_size = 4\n",
        "  X = []\n",
        "  Y = []\n",
        "  for i in range(window_size, len(train)):\n",
        "    X.append(train[i-window_size:i,:])\n",
        "    Y.append(train[i,0:1])\n",
        "    \n",
        "  return X,Y\n",
        "X, Y = to_supervised(scaled_dataset)\n",
        "X = np.array(X)\n",
        "Y = np.array(Y)\n",
        "print('Y' ,Y.shape)\n",
        "print('X' ,X.shape)"
      ],
      "metadata": {
        "colab": {
          "base_uri": "https://localhost:8080/"
        },
        "id": "8l9FCTdDmTWH",
        "outputId": "5db298de-e252-41ba-d7e1-d172b660fc7e"
      },
      "execution_count": null,
      "outputs": [
        {
          "output_type": "stream",
          "name": "stdout",
          "text": [
            "Y (43771, 1)\n",
            "X (43771, 4, 16)\n"
          ]
        }
      ]
    },
    {
      "cell_type": "code",
      "source": [
        "X[0][0]"
      ],
      "metadata": {
        "colab": {
          "base_uri": "https://localhost:8080/"
        },
        "id": "n8_T1TPpmWXK",
        "outputId": "f3620b22-0061-493c-be6f-f47b3b85b0b2"
      },
      "execution_count": null,
      "outputs": [
        {
          "output_type": "execute_result",
          "data": {
            "text/plain": [
              "array([0.5409399 , 0.24092133, 0.61321832, 0.03103044, 0.55688809,\n",
              "       0.19262007, 0.59236179, 0.00380735, 0.42043586, 0.19103092,\n",
              "       0.61106557, 0.20105082, 0.52063079, 0.        , 0.        ,\n",
              "       0.        ])"
            ]
          },
          "metadata": {},
          "execution_count": 14
        }
      ]
    },
    {
      "cell_type": "code",
      "source": [
        "X[0][1]"
      ],
      "metadata": {
        "colab": {
          "base_uri": "https://localhost:8080/"
        },
        "id": "l9vPhcNMmZiU",
        "outputId": "2206d7ff-1d0f-47ec-b129-9c168879f934"
      },
      "execution_count": null,
      "outputs": [
        {
          "output_type": "execute_result",
          "data": {
            "text/plain": [
              "array([0.50539099, 0.24373419, 0.62044905, 0.03149883, 0.56495521,\n",
              "       0.18830926, 0.5917586 , 0.00271794, 0.43487148, 0.18520624,\n",
              "       0.60639517, 0.18335602, 0.54090872, 0.        , 0.        ,\n",
              "       0.        ])"
            ]
          },
          "metadata": {},
          "execution_count": 15
        }
      ]
    },
    {
      "cell_type": "code",
      "source": [
        "X[0][2]"
      ],
      "metadata": {
        "colab": {
          "base_uri": "https://localhost:8080/"
        },
        "id": "9Bj1kyqYmccb",
        "outputId": "f14aca7b-6a30-4830-8f26-f9885b7b03e8"
      },
      "execution_count": null,
      "outputs": [
        {
          "output_type": "execute_result",
          "data": {
            "text/plain": [
              "array([0.49811449, 0.24688035, 0.63122022, 0.02969848, 0.57229741,\n",
              "       0.18542169, 0.58717608, 0.00292638, 0.44279035, 0.18185159,\n",
              "       0.60370644, 0.16470301, 0.569985  , 0.        , 0.        ,\n",
              "       0.        ])"
            ]
          },
          "metadata": {},
          "execution_count": 16
        }
      ]
    },
    {
      "cell_type": "code",
      "source": [
        "X[0][3]"
      ],
      "metadata": {
        "colab": {
          "base_uri": "https://localhost:8080/"
        },
        "id": "dzDDeXFJme7B",
        "outputId": "3d857e89-b545-4d8e-af2b-082d26b47273"
      },
      "execution_count": null,
      "outputs": [
        {
          "output_type": "execute_result",
          "data": {
            "text/plain": [
              "array([0.49181073, 0.24855696, 0.64270863, 0.03122073, 0.56351557,\n",
              "       0.17999443, 0.5799688 , 0.00534018, 0.4282018 , 0.18053538,\n",
              "       0.60439262, 0.14304764, 0.57119564, 0.        , 0.        ,\n",
              "       0.        ])"
            ]
          },
          "metadata": {},
          "execution_count": 17
        }
      ]
    },
    {
      "cell_type": "code",
      "source": [
        "#Splitting the dataset\n",
        "n_train = 24*365\n",
        "train_X, test_X = X[n_train:,] , X[:n_train,]\n",
        "print('train_X' ,train_X.shape)\n",
        "print('test_X' ,test_X.shape)\n",
        "\n",
        "train_y, test_y = Y[n_train:,] , Y[:n_train,]\n",
        "print('train_y' ,train_y.shape)\n",
        "print('test_y' ,test_y.shape)"
      ],
      "metadata": {
        "colab": {
          "base_uri": "https://localhost:8080/"
        },
        "id": "MFBp9iMumjDC",
        "outputId": "8b02b8fb-5371-4daf-928d-9a6bd29579dd"
      },
      "execution_count": null,
      "outputs": [
        {
          "output_type": "stream",
          "name": "stdout",
          "text": [
            "train_X (35011, 4, 16)\n",
            "test_X (8760, 4, 16)\n",
            "train_y (35011, 1)\n",
            "test_y (8760, 1)\n"
          ]
        }
      ]
    },
    {
      "cell_type": "code",
      "source": [
        "train_y"
      ],
      "metadata": {
        "colab": {
          "base_uri": "https://localhost:8080/"
        },
        "id": "9KSeTUPemnB_",
        "outputId": "81506bb9-3d3b-4dc6-c80f-ba3961dabc50"
      },
      "execution_count": null,
      "outputs": [
        {
          "output_type": "execute_result",
          "data": {
            "text/plain": [
              "array([[0.4973438 ],\n",
              "       [0.47749485],\n",
              "       [0.48078521],\n",
              "       ...,\n",
              "       [0.67742589],\n",
              "       [0.63878884],\n",
              "       [0.61068694]])"
            ]
          },
          "metadata": {},
          "execution_count": 19
        }
      ]
    },
    {
      "cell_type": "code",
      "source": [
        "model = Sequential()\n",
        "model.add(LSTM(50, input_shape=(train_X.shape[1], train_X.shape[2])))\n",
        "model.add(Dropout(0.2))\n",
        "\n",
        "model.add(Dense(units = 1))\n",
        "model.compile(loss='mae', optimizer='adam')\n",
        "# fit network\n",
        "history = model.fit(train_X, train_y, epochs=50, batch_size=72, validation_data=(test_X, test_y), verbose=2, shuffle=False)"
      ],
      "metadata": {
        "colab": {
          "base_uri": "https://localhost:8080/"
        },
        "id": "fJGYaukwmsze",
        "outputId": "593c2759-fb0a-41b1-ed2c-4e2ab5b1e74f"
      },
      "execution_count": null,
      "outputs": [
        {
          "output_type": "stream",
          "name": "stdout",
          "text": [
            "Epoch 1/50\n",
            "487/487 - 5s - loss: 0.0835 - val_loss: 0.0869 - 5s/epoch - 11ms/step\n",
            "Epoch 2/50\n",
            "487/487 - 2s - loss: 0.0581 - val_loss: 0.0492 - 2s/epoch - 5ms/step\n",
            "Epoch 3/50\n",
            "487/487 - 2s - loss: 0.0507 - val_loss: 0.0417 - 2s/epoch - 4ms/step\n",
            "Epoch 4/50\n",
            "487/487 - 2s - loss: 0.0444 - val_loss: 0.0300 - 2s/epoch - 4ms/step\n",
            "Epoch 5/50\n",
            "487/487 - 2s - loss: 0.0384 - val_loss: 0.0315 - 2s/epoch - 4ms/step\n",
            "Epoch 6/50\n",
            "487/487 - 2s - loss: 0.0337 - val_loss: 0.0258 - 2s/epoch - 4ms/step\n",
            "Epoch 7/50\n",
            "487/487 - 2s - loss: 0.0309 - val_loss: 0.0330 - 2s/epoch - 4ms/step\n",
            "Epoch 8/50\n",
            "487/487 - 2s - loss: 0.0281 - val_loss: 0.0319 - 2s/epoch - 4ms/step\n",
            "Epoch 9/50\n",
            "487/487 - 2s - loss: 0.0262 - val_loss: 0.0243 - 2s/epoch - 4ms/step\n",
            "Epoch 10/50\n",
            "487/487 - 2s - loss: 0.0248 - val_loss: 0.0259 - 2s/epoch - 4ms/step\n",
            "Epoch 11/50\n",
            "487/487 - 2s - loss: 0.0234 - val_loss: 0.0207 - 2s/epoch - 4ms/step\n",
            "Epoch 12/50\n",
            "487/487 - 2s - loss: 0.0229 - val_loss: 0.0375 - 2s/epoch - 4ms/step\n",
            "Epoch 13/50\n",
            "487/487 - 2s - loss: 0.0219 - val_loss: 0.0269 - 2s/epoch - 4ms/step\n",
            "Epoch 14/50\n",
            "487/487 - 2s - loss: 0.0213 - val_loss: 0.0222 - 2s/epoch - 4ms/step\n",
            "Epoch 15/50\n",
            "487/487 - 2s - loss: 0.0211 - val_loss: 0.0210 - 2s/epoch - 4ms/step\n",
            "Epoch 16/50\n",
            "487/487 - 2s - loss: 0.0203 - val_loss: 0.0261 - 2s/epoch - 4ms/step\n",
            "Epoch 17/50\n",
            "487/487 - 2s - loss: 0.0199 - val_loss: 0.0291 - 2s/epoch - 4ms/step\n",
            "Epoch 18/50\n",
            "487/487 - 2s - loss: 0.0201 - val_loss: 0.0233 - 2s/epoch - 4ms/step\n",
            "Epoch 19/50\n",
            "487/487 - 2s - loss: 0.0196 - val_loss: 0.0223 - 2s/epoch - 4ms/step\n",
            "Epoch 20/50\n",
            "487/487 - 2s - loss: 0.0198 - val_loss: 0.0235 - 2s/epoch - 4ms/step\n",
            "Epoch 21/50\n",
            "487/487 - 2s - loss: 0.0193 - val_loss: 0.0245 - 2s/epoch - 4ms/step\n",
            "Epoch 22/50\n",
            "487/487 - 2s - loss: 0.0190 - val_loss: 0.0239 - 2s/epoch - 4ms/step\n",
            "Epoch 23/50\n",
            "487/487 - 3s - loss: 0.0190 - val_loss: 0.0208 - 3s/epoch - 6ms/step\n",
            "Epoch 24/50\n",
            "487/487 - 2s - loss: 0.0187 - val_loss: 0.0238 - 2s/epoch - 4ms/step\n",
            "Epoch 25/50\n",
            "487/487 - 2s - loss: 0.0185 - val_loss: 0.0316 - 2s/epoch - 4ms/step\n",
            "Epoch 26/50\n",
            "487/487 - 2s - loss: 0.0185 - val_loss: 0.0347 - 2s/epoch - 4ms/step\n",
            "Epoch 27/50\n",
            "487/487 - 2s - loss: 0.0184 - val_loss: 0.0226 - 2s/epoch - 4ms/step\n",
            "Epoch 28/50\n",
            "487/487 - 2s - loss: 0.0179 - val_loss: 0.0221 - 2s/epoch - 4ms/step\n",
            "Epoch 29/50\n",
            "487/487 - 2s - loss: 0.0182 - val_loss: 0.0249 - 2s/epoch - 4ms/step\n",
            "Epoch 30/50\n",
            "487/487 - 2s - loss: 0.0176 - val_loss: 0.0203 - 2s/epoch - 5ms/step\n",
            "Epoch 31/50\n",
            "487/487 - 2s - loss: 0.0178 - val_loss: 0.0261 - 2s/epoch - 4ms/step\n",
            "Epoch 32/50\n",
            "487/487 - 2s - loss: 0.0174 - val_loss: 0.0229 - 2s/epoch - 4ms/step\n",
            "Epoch 33/50\n",
            "487/487 - 2s - loss: 0.0172 - val_loss: 0.0233 - 2s/epoch - 4ms/step\n",
            "Epoch 34/50\n",
            "487/487 - 2s - loss: 0.0173 - val_loss: 0.0253 - 2s/epoch - 4ms/step\n",
            "Epoch 35/50\n",
            "487/487 - 2s - loss: 0.0172 - val_loss: 0.0322 - 2s/epoch - 5ms/step\n",
            "Epoch 36/50\n",
            "487/487 - 2s - loss: 0.0172 - val_loss: 0.0287 - 2s/epoch - 4ms/step\n",
            "Epoch 37/50\n",
            "487/487 - 2s - loss: 0.0171 - val_loss: 0.0281 - 2s/epoch - 4ms/step\n",
            "Epoch 38/50\n",
            "487/487 - 2s - loss: 0.0169 - val_loss: 0.0217 - 2s/epoch - 4ms/step\n",
            "Epoch 39/50\n",
            "487/487 - 2s - loss: 0.0169 - val_loss: 0.0221 - 2s/epoch - 4ms/step\n",
            "Epoch 40/50\n",
            "487/487 - 2s - loss: 0.0168 - val_loss: 0.0251 - 2s/epoch - 4ms/step\n",
            "Epoch 41/50\n",
            "487/487 - 2s - loss: 0.0166 - val_loss: 0.0256 - 2s/epoch - 4ms/step\n",
            "Epoch 42/50\n",
            "487/487 - 2s - loss: 0.0167 - val_loss: 0.0262 - 2s/epoch - 5ms/step\n",
            "Epoch 43/50\n",
            "487/487 - 2s - loss: 0.0165 - val_loss: 0.0306 - 2s/epoch - 5ms/step\n",
            "Epoch 44/50\n",
            "487/487 - 2s - loss: 0.0165 - val_loss: 0.0251 - 2s/epoch - 5ms/step\n",
            "Epoch 45/50\n",
            "487/487 - 2s - loss: 0.0162 - val_loss: 0.0268 - 2s/epoch - 4ms/step\n",
            "Epoch 46/50\n",
            "487/487 - 2s - loss: 0.0163 - val_loss: 0.0233 - 2s/epoch - 4ms/step\n",
            "Epoch 47/50\n",
            "487/487 - 2s - loss: 0.0163 - val_loss: 0.0227 - 2s/epoch - 4ms/step\n",
            "Epoch 48/50\n",
            "487/487 - 2s - loss: 0.0167 - val_loss: 0.0258 - 2s/epoch - 4ms/step\n",
            "Epoch 49/50\n",
            "487/487 - 2s - loss: 0.0163 - val_loss: 0.0297 - 2s/epoch - 4ms/step\n",
            "Epoch 50/50\n",
            "487/487 - 2s - loss: 0.0166 - val_loss: 0.0273 - 2s/epoch - 4ms/step\n"
          ]
        }
      ]
    },
    {
      "cell_type": "code",
      "source": [
        "# plot history\n",
        "pyplot.plot(history.history['loss'], label='train')\n",
        "pyplot.plot(history.history['val_loss'], label='test')\n",
        "pyplot.legend()\n",
        "pyplot.show()"
      ],
      "metadata": {
        "colab": {
          "base_uri": "https://localhost:8080/",
          "height": 268
        },
        "id": "jDfloVnLm2Bp",
        "outputId": "ef889d65-d56b-4c67-d9f2-5a6f127da9e2"
      },
      "execution_count": null,
      "outputs": [
        {
          "output_type": "display_data",
          "data": {
            "text/plain": [
              "<Figure size 432x288 with 1 Axes>"
            ],
            "image/png": "[encoded data removed]"
          },
          "metadata": {
            "needs_background": "light"
          }
        }
      ]
    },
    {
      "cell_type": "code",
      "source": [
        "Y_pred = model.predict(test_X)\n",
        "\n",
        "mse = mean_squared_error(test_y, Y_pred)\n",
        "\n",
        "rmse = np.sqrt(mse)\n",
        "rmse"
      ],
      "metadata": {
        "colab": {
          "base_uri": "https://localhost:8080/"
        },
        "id": "3amid4nWnBSc",
        "outputId": "5428b331-332d-4164-d73e-0746919b6285"
      },
      "execution_count": null,
      "outputs": [
        {
          "output_type": "execute_result",
          "data": {
            "text/plain": [
              "0.03214026757249467"
            ]
          },
          "metadata": {},
          "execution_count": 22
        }
      ]
    },
    {
      "cell_type": "code",
      "source": [
        "d = scaled_dataset[:8760,:]\n",
        "Y_predicted = np.concatenate((Y_pred,d[:8760,1:]), axis =1)\n",
        "print('concat y_pred',Y_pred.shape)\n",
        "Y_tested = np.concatenate((test_y, d[:8760,1:]), axis = 1)\n",
        "print('concat Y_test', test_y.shape)"
      ],
      "metadata": {
        "colab": {
          "base_uri": "https://localhost:8080/"
        },
        "id": "7u947cwtnEHs",
        "outputId": "61cd69e5-f9cd-41a1-f5f6-39b0016b226b"
      },
      "execution_count": null,
      "outputs": [
        {
          "output_type": "stream",
          "name": "stdout",
          "text": [
            "concat y_pred (8760, 1)\n",
            "concat Y_test (8760, 1)\n"
          ]
        }
      ]
    },
    {
      "cell_type": "code",
      "source": [
        "#Scaling back to the original scale\n",
        "Y_predicted = scaler.inverse_transform(Y_predicted)\n",
        "Y_tested = scaler.inverse_transform(Y_tested)\n",
        "Y_predicted = Y_predicted[:,0:1]\n",
        "Y_tested = Y_tested[:,0:1]\n",
        "print('Y_tested', Y_tested.shape)\n",
        "print('Y_predicted', Y_predicted.shape)"
      ],
      "metadata": {
        "colab": {
          "base_uri": "https://localhost:8080/"
        },
        "id": "dFMaIGn3nH97",
        "outputId": "05e6444e-8896-4879-835b-945a1fd5d676"
      },
      "execution_count": null,
      "outputs": [
        {
          "output_type": "stream",
          "name": "stdout",
          "text": [
            "Y_tested (8760, 1)\n",
            "Y_predicted (8760, 1)\n"
          ]
        }
      ]
    },
    {
      "cell_type": "code",
      "source": [
        "#Plot the graph between actual vs predicted values\n",
        "pyplot.figure(figsize=(10,6))  \n",
        "pyplot.plot(Y_predicted[:100,:], color= 'blue',label = 'Predicted ')\n",
        "pyplot.plot(Y_tested[:100,:] , color = 'green',label = 'Actual ')\n",
        "pyplot.title(\" Prediction (Multivariate)\")\n",
        "pyplot.xlabel(\"Date\")\n",
        "pyplot.ylabel(\"demand\")\n",
        "pyplot.legend()\n",
        "pyplot.show()\n",
        "pyplot.savefig('graph.png')"
      ],
      "metadata": {
        "colab": {
          "base_uri": "https://localhost:8080/",
          "height": 421
        },
        "id": "hC7U5-ydnL_0",
        "outputId": "934c89a9-f05c-4143-81ef-d8e8356d2240"
      },
      "execution_count": null,
      "outputs": [
        {
          "output_type": "display_data",
          "data": {
            "text/plain": [
              "<Figure size 720x432 with 1 Axes>"
            ],
            "image/png": "[encoded data removed]"
          },
          "metadata": {
            "needs_background": "light"
          }
        },
        {
          "output_type": "display_data",
          "data": {
            "text/plain": [
              "<Figure size 432x288 with 0 Axes>"
            ]
          },
          "metadata": {}
        }
      ]
    }
  ]
}