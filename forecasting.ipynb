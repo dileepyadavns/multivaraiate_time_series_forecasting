{
  "nbformat": 4,
  "nbformat_minor": 0,
  "metadata": {
    "colab": {
      "provenance": [],
      "collapsed_sections": [],
      "mount_file_id": "1jfYmEYEaNU4MWG1KmKNkt2mDbYleHniT",
      "authorship_tag": "ABX9TyMiQB5yUPZ4Tte8FGanjYjt",
      "include_colab_link": true
    },
    "kernelspec": {
      "name": "python3",
      "display_name": "Python 3"
    },
    "language_info": {
      "name": "python"
    }
  },
  "cells": [
    {
      "cell_type": "markdown",
      "metadata": {
        "id": "view-in-github",
        "colab_type": "text"
      },
      "source": [
        "<a href=\"https://colab.research.google.com/github/dileepyadavns/multivaraiate_time_series_forecasting/blob/main/forecasting.ipynb\" target=\"_parent\"><img src=\"https://colab.research.google.com/assets/colab-badge.svg\" alt=\"Open In Colab\"/></a>"
      ]
    },
    {
      "cell_type": "code",
      "source": [
        "import numpy as np\n",
        "import pandas as pd\n",
        "from datetime import datetime\n",
        "from math import sqrt\n",
        "from numpy import concatenate\n",
        "from matplotlib import pyplot\n",
        "import matplotlib.pyplot as plt\n",
        "# from pandas import read_csv\n",
        "# from pandas import DataFrame\n",
        "from pandas import concat\n",
        "from sklearn.preprocessing import MinMaxScaler\n",
        "from sklearn.preprocessing import LabelEncoder\n",
        "from sklearn.metrics import mean_squared_error\n",
        "from keras.models import Sequential\n",
        "from keras.layers import Dense,Dropout\n",
        "from keras.layers import LSTM"
      ],
      "metadata": {
        "id": "2Htw4Dd7l4QA"
      },
      "execution_count": 1,
      "outputs": []
    },
    {
      "cell_type": "code",
      "source": [
        "dataset_train = pd.read_csv('/content/train.csv',header=0, index_col=0)  \n",
        "dataset_train.head(2)"
      ],
      "metadata": {
        "colab": {
          "base_uri": "https://localhost:8080/",
          "height": 277
        },
        "id": "RQFTSQJvl7CI",
        "outputId": "4c00146c-6f53-4d10-e3be-86b27f656447"
      },
      "execution_count": 106,
      "outputs": [
        {
          "output_type": "execute_result",
          "data": {
            "text/plain": [
              "                  nat_demand    T2M_toc  QV2M_toc   TQL_toc    W2M_toc  \\\n",
              "datetime                                                                 \n",
              "03-01-2015 01:00    970.3450  25.865259  0.018576  0.016174  21.850546   \n",
              "03-01-2015 02:00    912.1755  25.899255  0.018653  0.016418  22.166944   \n",
              "\n",
              "                    T2M_san  QV2M_san   TQL_san    W2M_san    T2M_dav  \\\n",
              "datetime                                                                \n",
              "03-01-2015 01:00  23.482446  0.017272  0.001855  10.328949  22.662134   \n",
              "03-01-2015 02:00  23.399255  0.017265  0.001327  10.681517  22.578943   \n",
              "\n",
              "                  QV2M_dav   TQL_dav   W2M_dav  Holiday_ID  holiday  school  \n",
              "datetime                                                                     \n",
              "03-01-2015 01:00  0.016562  0.096100  5.364148           0        0       0  \n",
              "03-01-2015 02:00  0.016509  0.087646  5.572471           0        0       0  "
            ],
            "text/html": [
              "\n",
              "  <div id=\"df-9d88ec4f-dcf7-4605-880e-fc128fcefc14\">\n",
              "    <div class=\"colab-df-container\">\n",
              "      <div>\n",
              "<style scoped>\n",
              "    .dataframe tbody tr th:only-of-type {\n",
              "        vertical-align: middle;\n",
              "    }\n",
              "\n",
              "    .dataframe tbody tr th {\n",
              "        vertical-align: top;\n",
              "    }\n",
              "\n",
              "    .dataframe thead th {\n",
              "        text-align: right;\n",
              "    }\n",
              "</style>\n",
              "<table border=\"1\" class=\"dataframe\">\n",
              "  <thead>\n",
              "    <tr style=\"text-align: right;\">\n",
              "      <th></th>\n",
              "      <th>nat_demand</th>\n",
              "      <th>T2M_toc</th>\n",
              "      <th>QV2M_toc</th>\n",
              "      <th>TQL_toc</th>\n",
              "      <th>W2M_toc</th>\n",
              "      <th>T2M_san</th>\n",
              "      <th>QV2M_san</th>\n",
              "      <th>TQL_san</th>\n",
              "      <th>W2M_san</th>\n",
              "      <th>T2M_dav</th>\n",
              "      <th>QV2M_dav</th>\n",
              "      <th>TQL_dav</th>\n",
              "      <th>W2M_dav</th>\n",
              "      <th>Holiday_ID</th>\n",
              "      <th>holiday</th>\n",
              "      <th>school</th>\n",
              "    </tr>\n",
              "    <tr>\n",
              "      <th>datetime</th>\n",
              "      <th></th>\n",
              "      <th></th>\n",
              "      <th></th>\n",
              "      <th></th>\n",
              "      <th></th>\n",
              "      <th></th>\n",
              "      <th></th>\n",
              "      <th></th>\n",
              "      <th></th>\n",
              "      <th></th>\n",
              "      <th></th>\n",
              "      <th></th>\n",
              "      <th></th>\n",
              "      <th></th>\n",
              "      <th></th>\n",
              "      <th></th>\n",
              "    </tr>\n",
              "  </thead>\n",
              "  <tbody>\n",
              "    <tr>\n",
              "      <th>03-01-2015 01:00</th>\n",
              "      <td>970.3450</td>\n",
              "      <td>25.865259</td>\n",
              "      <td>0.018576</td>\n",
              "      <td>0.016174</td>\n",
              "      <td>21.850546</td>\n",
              "      <td>23.482446</td>\n",
              "      <td>0.017272</td>\n",
              "      <td>0.001855</td>\n",
              "      <td>10.328949</td>\n",
              "      <td>22.662134</td>\n",
              "      <td>0.016562</td>\n",
              "      <td>0.096100</td>\n",
              "      <td>5.364148</td>\n",
              "      <td>0</td>\n",
              "      <td>0</td>\n",
              "      <td>0</td>\n",
              "    </tr>\n",
              "    <tr>\n",
              "      <th>03-01-2015 02:00</th>\n",
              "      <td>912.1755</td>\n",
              "      <td>25.899255</td>\n",
              "      <td>0.018653</td>\n",
              "      <td>0.016418</td>\n",
              "      <td>22.166944</td>\n",
              "      <td>23.399255</td>\n",
              "      <td>0.017265</td>\n",
              "      <td>0.001327</td>\n",
              "      <td>10.681517</td>\n",
              "      <td>22.578943</td>\n",
              "      <td>0.016509</td>\n",
              "      <td>0.087646</td>\n",
              "      <td>5.572471</td>\n",
              "      <td>0</td>\n",
              "      <td>0</td>\n",
              "      <td>0</td>\n",
              "    </tr>\n",
              "  </tbody>\n",
              "</table>\n",
              "</div>\n",
              "      <button class=\"colab-df-convert\" onclick=\"convertToInteractive('df-9d88ec4f-dcf7-4605-880e-fc128fcefc14')\"\n",
              "              title=\"Convert this dataframe to an interactive table.\"\n",
              "              style=\"display:none;\">\n",
              "        \n",
              "  <svg xmlns=\"http://www.w3.org/2000/svg\" height=\"24px\"viewBox=\"0 0 24 24\"\n",
              "       width=\"24px\">\n",
              "    <path d=\"M0 0h24v24H0V0z\" fill=\"none\"/>\n",
              "    <path d=\"M18.56 5.44l.94 2.06.94-2.06 2.06-.94-2.06-.94-.94-2.06-.94 2.06-2.06.94zm-11 1L8.5 8.5l.94-2.06 2.06-.94-2.06-.94L8.5 2.5l-.94 2.06-2.06.94zm10 10l.94 2.06.94-2.06 2.06-.94-2.06-.94-.94-2.06-.94 2.06-2.06.94z\"/><path d=\"M17.41 7.96l-1.37-1.37c-.4-.4-.92-.59-1.43-.59-.52 0-1.04.2-1.43.59L10.3 9.45l-7.72 7.72c-.78.78-.78 2.05 0 2.83L4 21.41c.39.39.9.59 1.41.59.51 0 1.02-.2 1.41-.59l7.78-7.78 2.81-2.81c.8-.78.8-2.07 0-2.86zM5.41 20L4 18.59l7.72-7.72 1.47 1.35L5.41 20z\"/>\n",
              "  </svg>\n",
              "      </button>\n",
              "      \n",
              "  <style>\n",
              "    .colab-df-container {\n",
              "      display:flex;\n",
              "      flex-wrap:wrap;\n",
              "      gap: 12px;\n",
              "    }\n",
              "\n",
              "    .colab-df-convert {\n",
              "      background-color: #E8F0FE;\n",
              "      border: none;\n",
              "      border-radius: 50%;\n",
              "      cursor: pointer;\n",
              "      display: none;\n",
              "      fill: #1967D2;\n",
              "      height: 32px;\n",
              "      padding: 0 0 0 0;\n",
              "      width: 32px;\n",
              "    }\n",
              "\n",
              "    .colab-df-convert:hover {\n",
              "      background-color: #E2EBFA;\n",
              "      box-shadow: 0px 1px 2px rgba(60, 64, 67, 0.3), 0px 1px 3px 1px rgba(60, 64, 67, 0.15);\n",
              "      fill: #174EA6;\n",
              "    }\n",
              "\n",
              "    [theme=dark] .colab-df-convert {\n",
              "      background-color: #3B4455;\n",
              "      fill: #D2E3FC;\n",
              "    }\n",
              "\n",
              "    [theme=dark] .colab-df-convert:hover {\n",
              "      background-color: #434B5C;\n",
              "      box-shadow: 0px 1px 3px 1px rgba(0, 0, 0, 0.15);\n",
              "      filter: drop-shadow(0px 1px 2px rgba(0, 0, 0, 0.3));\n",
              "      fill: #FFFFFF;\n",
              "    }\n",
              "  </style>\n",
              "\n",
              "      <script>\n",
              "        const buttonEl =\n",
              "          document.querySelector('#df-9d88ec4f-dcf7-4605-880e-fc128fcefc14 button.colab-df-convert');\n",
              "        buttonEl.style.display =\n",
              "          google.colab.kernel.accessAllowed ? 'block' : 'none';\n",
              "\n",
              "        async function convertToInteractive(key) {\n",
              "          const element = document.querySelector('#df-9d88ec4f-dcf7-4605-880e-fc128fcefc14');\n",
              "          const dataTable =\n",
              "            await google.colab.kernel.invokeFunction('convertToInteractive',\n",
              "                                                     [key], {});\n",
              "          if (!dataTable) return;\n",
              "\n",
              "          const docLinkHtml = 'Like what you see? Visit the ' +\n",
              "            '<a target=\"_blank\" href=https://colab.research.google.com/notebooks/data_table.ipynb>data table notebook</a>'\n",
              "            + ' to learn more about interactive tables.';\n",
              "          element.innerHTML = '';\n",
              "          dataTable['output_type'] = 'display_data';\n",
              "          await google.colab.output.renderOutput(dataTable, element);\n",
              "          const docLink = document.createElement('div');\n",
              "          docLink.innerHTML = docLinkHtml;\n",
              "          element.appendChild(docLink);\n",
              "        }\n",
              "      </script>\n",
              "    </div>\n",
              "  </div>\n",
              "  "
            ]
          },
          "metadata": {},
          "execution_count": 106
        }
      ]
    },
    {
      "cell_type": "code",
      "source": [
        "print(type(dataset_train))\n",
        "dataset_train.shape"
      ],
      "metadata": {
        "colab": {
          "base_uri": "https://localhost:8080/"
        },
        "id": "skmERu70mAho",
        "outputId": "785006de-0017-436e-88b7-b0d7c437e858"
      },
      "execution_count": 3,
      "outputs": [
        {
          "output_type": "stream",
          "name": "stdout",
          "text": [
            "<class 'pandas.core.frame.DataFrame'>\n"
          ]
        },
        {
          "output_type": "execute_result",
          "data": {
            "text/plain": [
              "(43775, 16)"
            ]
          },
          "metadata": {},
          "execution_count": 3
        }
      ]
    },
    {
      "cell_type": "code",
      "source": [
        "dataset_columns = dataset_train.columns.tolist()\n",
        "dataset_columns"
      ],
      "metadata": {
        "colab": {
          "base_uri": "https://localhost:8080/"
        },
        "id": "XpYbuxQhmDya",
        "outputId": "427db5ba-d447-4808-87af-9aa29f8df7ee"
      },
      "execution_count": 4,
      "outputs": [
        {
          "output_type": "execute_result",
          "data": {
            "text/plain": [
              "['nat_demand',\n",
              " 'T2M_toc',\n",
              " 'QV2M_toc',\n",
              " 'TQL_toc',\n",
              " 'W2M_toc',\n",
              " 'T2M_san',\n",
              " 'QV2M_san',\n",
              " 'TQL_san',\n",
              " 'W2M_san',\n",
              " 'T2M_dav',\n",
              " 'QV2M_dav',\n",
              " 'TQL_dav',\n",
              " 'W2M_dav',\n",
              " 'Holiday_ID',\n",
              " 'holiday',\n",
              " 'school']"
            ]
          },
          "metadata": {},
          "execution_count": 4
        }
      ]
    },
    {
      "cell_type": "code",
      "source": [
        "cor_cols = dataset_columns\n",
        "plt.matshow(dataset_train.corr())\n",
        "plt.xticks(range(len(cor_cols)), cor_cols)\n",
        "plt.yticks(range(len(cor_cols)), cor_cols)\n",
        "plt.colorbar()\n",
        "plt.show()"
      ],
      "metadata": {
        "colab": {
          "base_uri": "https://localhost:8080/",
          "height": 264
        },
        "id": "NATCxZYXmHGn",
        "outputId": "5f9575ca-5bb0-49d5-fc16-3ae4cb0ebd5c"
      },
      "execution_count": 5,
      "outputs": [
        {
          "output_type": "display_data",
          "data": {
            "text/plain": [
              "<Figure size 288x288 with 2 Axes>"
            ],
            "image/png": "[encoded data removed]"
          },
          "metadata": {
            "needs_background": "light"
          }
        }
      ]
    },
    {
      "cell_type": "code",
      "source": [
        "values = dataset_train.values\n",
        "print(values.shape)\n",
        "print(type(values))\n",
        "values[0]"
      ],
      "metadata": {
        "colab": {
          "base_uri": "https://localhost:8080/"
        },
        "id": "-MP1GL6RmLAp",
        "outputId": "987001b1-d711-4c4f-81ba-e3d1bafc920b"
      },
      "execution_count": 107,
      "outputs": [
        {
          "output_type": "stream",
          "name": "stdout",
          "text": [
            "(43775, 16)\n",
            "<class 'numpy.ndarray'>\n"
          ]
        },
        {
          "output_type": "execute_result",
          "data": {
            "text/plain": [
              "array([9.70345000e+02, 2.58652588e+01, 1.85763820e-02, 1.61743160e-02,\n",
              "       2.18505458e+01, 2.34824463e+01, 1.72717550e-02, 1.85537300e-03,\n",
              "       1.03289487e+01, 2.26621338e+01, 1.65622220e-02, 9.60998500e-02,\n",
              "       5.36414795e+00, 0.00000000e+00, 0.00000000e+00, 0.00000000e+00])"
            ]
          },
          "metadata": {},
          "execution_count": 107
        }
      ]
    },
    {
      "cell_type": "code",
      "source": [
        "# normalized the features\n",
        "scaler = MinMaxScaler(feature_range=(0, 1))\n",
        "scaled_dataset = scaler.fit_transform(values)\n",
        "print(scaled_dataset[0])\n",
        "scaled_dataset.shape"
      ],
      "metadata": {
        "colab": {
          "base_uri": "https://localhost:8080/"
        },
        "id": "ewo6Exv3mONr",
        "outputId": "35bfb63e-51af-4d8a-84f3-96032164138a"
      },
      "execution_count": 108,
      "outputs": [
        {
          "output_type": "stream",
          "name": "stdout",
          "text": [
            "[0.5409399  0.24092133 0.61321832 0.03103044 0.55688809 0.19262007\n",
            " 0.59236179 0.00380735 0.42043586 0.19103092 0.61106557 0.20105082\n",
            " 0.52063079 0.         0.         0.        ]\n"
          ]
        },
        {
          "output_type": "execute_result",
          "data": {
            "text/plain": [
              "(43775, 16)"
            ]
          },
          "metadata": {},
          "execution_count": 108
        }
      ]
    },
    {
      "cell_type": "code",
      "source": [
        "def to_supervised(train):\n",
        "  window_size = 4\n",
        "  X = []\n",
        "  Y = []\n",
        "  for i in range(window_size, len(train)):\n",
        "    X.append(train[i-window_size:i,:])\n",
        "    Y.append(train[i,0:1])\n",
        "    \n",
        "  return X,Y\n",
        "X, Y = to_supervised(scaled_dataset)\n",
        "X = np.array(X)\n",
        "Y = np.array(Y)\n",
        "print('Y' ,Y.shape)\n",
        "print('X' ,X.shape)"
      ],
      "metadata": {
        "colab": {
          "base_uri": "https://localhost:8080/"
        },
        "id": "8l9FCTdDmTWH",
        "outputId": "41450511-26c8-4b0d-c0b6-1ee94719788c"
      },
      "execution_count": 109,
      "outputs": [
        {
          "output_type": "stream",
          "name": "stdout",
          "text": [
            "Y (43771, 1)\n",
            "X (43771, 4, 16)\n"
          ]
        }
      ]
    },
    {
      "cell_type": "code",
      "source": [
        "X.shape"
      ],
      "metadata": {
        "colab": {
          "base_uri": "https://localhost:8080/"
        },
        "id": "C_P-jEkOnDLO",
        "outputId": "3894014f-e73a-4b32-f93d-60c7c587f6a7"
      },
      "execution_count": 9,
      "outputs": [
        {
          "output_type": "execute_result",
          "data": {
            "text/plain": [
              "(43771, 4, 16)"
            ]
          },
          "metadata": {},
          "execution_count": 9
        }
      ]
    },
    {
      "cell_type": "code",
      "source": [
        "#Splitting the dataset\n",
        "n_train = 24*365\n",
        "train_X, test_X = X[n_train:,] , X[:n_train,]\n",
        "print('train_X' ,train_X.shape)\n",
        "print('test_X' ,test_X.shape)\n",
        "\n",
        "train_y, test_y = Y[n_train:,] , Y[:n_train,]\n",
        "print('train_y' ,train_y.shape)\n",
        "print('test_y' ,test_y.shape)"
      ],
      "metadata": {
        "colab": {
          "base_uri": "https://localhost:8080/"
        },
        "id": "MFBp9iMumjDC",
        "outputId": "18d3a578-dbfb-4c28-eb2f-aea63999f274"
      },
      "execution_count": 110,
      "outputs": [
        {
          "output_type": "stream",
          "name": "stdout",
          "text": [
            "train_X (35011, 4, 16)\n",
            "test_X (8760, 4, 16)\n",
            "train_y (35011, 1)\n",
            "test_y (8760, 1)\n"
          ]
        }
      ]
    },
    {
      "cell_type": "code",
      "source": [
        "test_X.shape"
      ],
      "metadata": {
        "colab": {
          "base_uri": "https://localhost:8080/"
        },
        "id": "xi0WKmztyw-i",
        "outputId": "75a77281-5aaa-4521-ed47-9e18b7a58c46"
      },
      "execution_count": 16,
      "outputs": [
        {
          "output_type": "execute_result",
          "data": {
            "text/plain": [
              "(8760, 4, 16)"
            ]
          },
          "metadata": {},
          "execution_count": 16
        }
      ]
    },
    {
      "cell_type": "code",
      "source": [
        "test_y.shape"
      ],
      "metadata": {
        "colab": {
          "base_uri": "https://localhost:8080/"
        },
        "id": "GTJ6A9wyyz69",
        "outputId": "2fa461f7-787b-479d-98df-4195e6425df5"
      },
      "execution_count": 17,
      "outputs": [
        {
          "output_type": "execute_result",
          "data": {
            "text/plain": [
              "(8760, 1)"
            ]
          },
          "metadata": {},
          "execution_count": 17
        }
      ]
    },
    {
      "cell_type": "code",
      "source": [
        "print(train_X)"
      ],
      "metadata": {
        "colab": {
          "base_uri": "https://localhost:8080/"
        },
        "id": "lTbjb9LnnQMy",
        "outputId": "0cc426d4-afa1-43b4-dca1-52fb45ec76df"
      },
      "execution_count": 18,
      "outputs": [
        {
          "output_type": "stream",
          "name": "stdout",
          "text": [
            "[[[0.55050646 0.25591989 0.70528319 ... 0.         0.         0.        ]\n",
            "  [0.53149897 0.24920588 0.68375298 ... 0.         0.         0.        ]\n",
            "  [0.50939185 0.24375186 0.66147253 ... 0.         0.         0.        ]\n",
            "  [0.49572933 0.23703281 0.6492398  ... 0.         0.         0.        ]]\n",
            "\n",
            " [[0.53149897 0.24920588 0.68375298 ... 0.         0.         0.        ]\n",
            "  [0.50939185 0.24375186 0.66147253 ... 0.         0.         0.        ]\n",
            "  [0.49572933 0.23703281 0.6492398  ... 0.         0.         0.        ]\n",
            "  [0.4973438  0.23264687 0.64205494 ... 0.         0.         0.        ]]\n",
            "\n",
            " [[0.50939185 0.24375186 0.66147253 ... 0.         0.         0.        ]\n",
            "  [0.49572933 0.23703281 0.6492398  ... 0.         0.         0.        ]\n",
            "  [0.4973438  0.23264687 0.64205494 ... 0.         0.         0.        ]\n",
            "  [0.47749485 0.23519713 0.6356004  ... 0.         0.         0.        ]]\n",
            "\n",
            " ...\n",
            "\n",
            " [[0.67720686 0.42681763 0.54761599 ... 1.         1.         0.        ]\n",
            "  [0.73467558 0.33475071 0.59792594 ... 1.         1.         0.        ]\n",
            "  [0.74338248 0.30466268 0.59864309 ... 1.         1.         0.        ]\n",
            "  [0.71243316 0.29310319 0.57428264 ... 1.         1.         0.        ]]\n",
            "\n",
            " [[0.73467558 0.33475071 0.59792594 ... 1.         1.         0.        ]\n",
            "  [0.74338248 0.30466268 0.59864309 ... 1.         1.         0.        ]\n",
            "  [0.71243316 0.29310319 0.57428264 ... 1.         1.         0.        ]\n",
            "  [0.67742589 0.28139724 0.55712199 ... 1.         1.         0.        ]]\n",
            "\n",
            " [[0.74338248 0.30466268 0.59864309 ... 1.         1.         0.        ]\n",
            "  [0.71243316 0.29310319 0.57428264 ... 1.         1.         0.        ]\n",
            "  [0.67742589 0.28139724 0.55712199 ... 1.         1.         0.        ]\n",
            "  [0.63878884 0.26587853 0.55572736 ... 1.         1.         0.        ]]]\n"
          ]
        }
      ]
    },
    {
      "cell_type": "code",
      "source": [
        "train_y"
      ],
      "metadata": {
        "colab": {
          "base_uri": "https://localhost:8080/"
        },
        "id": "9KSeTUPemnB_",
        "outputId": "2e4e3dfa-bccf-4fe7-ee4b-7c82edbd7982"
      },
      "execution_count": 19,
      "outputs": [
        {
          "output_type": "execute_result",
          "data": {
            "text/plain": [
              "array([[0.4973438 ],\n",
              "       [0.47749485],\n",
              "       [0.48078521],\n",
              "       ...,\n",
              "       [0.67742589],\n",
              "       [0.63878884],\n",
              "       [0.61068694]])"
            ]
          },
          "metadata": {},
          "execution_count": 19
        }
      ]
    },
    {
      "cell_type": "code",
      "source": [
        "model = Sequential()\n",
        "model.add(LSTM(50, input_shape=(train_X.shape[1], train_X.shape[2])))\n",
        "model.add(Dropout(0.2))\n",
        "\n",
        "model.add(Dense(units = 1))\n",
        "model.compile(loss='mae', optimizer='adam')\n",
        "# fit network\n",
        "history = model.fit(train_X, train_y, epochs=50, batch_size=72, validation_data=(test_X, test_y), verbose=2, shuffle=False )"
      ],
      "metadata": {
        "colab": {
          "base_uri": "https://localhost:8080/"
        },
        "id": "r4SG4bP93Y_S",
        "outputId": "76e56022-6409-4445-f92e-232f63e24f6f"
      },
      "execution_count": 20,
      "outputs": [
        {
          "output_type": "stream",
          "name": "stdout",
          "text": [
            "Epoch 1/50\n",
            "487/487 - 5s - loss: 0.0902 - val_loss: 0.0921 - 5s/epoch - 10ms/step\n",
            "Epoch 2/50\n",
            "487/487 - 2s - loss: 0.0605 - val_loss: 0.0683 - 2s/epoch - 4ms/step\n",
            "Epoch 3/50\n",
            "487/487 - 2s - loss: 0.0532 - val_loss: 0.0671 - 2s/epoch - 4ms/step\n",
            "Epoch 4/50\n",
            "487/487 - 2s - loss: 0.0472 - val_loss: 0.0412 - 2s/epoch - 4ms/step\n",
            "Epoch 5/50\n",
            "487/487 - 2s - loss: 0.0410 - val_loss: 0.0583 - 2s/epoch - 4ms/step\n",
            "Epoch 6/50\n",
            "487/487 - 2s - loss: 0.0362 - val_loss: 0.0333 - 2s/epoch - 4ms/step\n",
            "Epoch 7/50\n",
            "487/487 - 2s - loss: 0.0326 - val_loss: 0.0292 - 2s/epoch - 4ms/step\n",
            "Epoch 8/50\n",
            "487/487 - 2s - loss: 0.0295 - val_loss: 0.0211 - 2s/epoch - 4ms/step\n",
            "Epoch 9/50\n",
            "487/487 - 2s - loss: 0.0276 - val_loss: 0.0254 - 2s/epoch - 4ms/step\n",
            "Epoch 10/50\n",
            "487/487 - 2s - loss: 0.0257 - val_loss: 0.0200 - 2s/epoch - 4ms/step\n",
            "Epoch 11/50\n",
            "487/487 - 2s - loss: 0.0239 - val_loss: 0.0240 - 2s/epoch - 4ms/step\n",
            "Epoch 12/50\n",
            "487/487 - 2s - loss: 0.0231 - val_loss: 0.0269 - 2s/epoch - 4ms/step\n",
            "Epoch 13/50\n",
            "487/487 - 2s - loss: 0.0222 - val_loss: 0.0257 - 2s/epoch - 4ms/step\n",
            "Epoch 14/50\n",
            "487/487 - 2s - loss: 0.0214 - val_loss: 0.0276 - 2s/epoch - 4ms/step\n",
            "Epoch 15/50\n",
            "487/487 - 2s - loss: 0.0209 - val_loss: 0.0249 - 2s/epoch - 4ms/step\n",
            "Epoch 16/50\n",
            "487/487 - 2s - loss: 0.0207 - val_loss: 0.0209 - 2s/epoch - 4ms/step\n",
            "Epoch 17/50\n",
            "487/487 - 2s - loss: 0.0206 - val_loss: 0.0225 - 2s/epoch - 4ms/step\n",
            "Epoch 18/50\n",
            "487/487 - 2s - loss: 0.0202 - val_loss: 0.0218 - 2s/epoch - 4ms/step\n",
            "Epoch 19/50\n",
            "487/487 - 2s - loss: 0.0201 - val_loss: 0.0199 - 2s/epoch - 4ms/step\n",
            "Epoch 20/50\n",
            "487/487 - 2s - loss: 0.0195 - val_loss: 0.0197 - 2s/epoch - 4ms/step\n",
            "Epoch 21/50\n",
            "487/487 - 2s - loss: 0.0195 - val_loss: 0.0189 - 2s/epoch - 4ms/step\n",
            "Epoch 22/50\n",
            "487/487 - 2s - loss: 0.0190 - val_loss: 0.0184 - 2s/epoch - 4ms/step\n",
            "Epoch 23/50\n",
            "487/487 - 2s - loss: 0.0190 - val_loss: 0.0197 - 2s/epoch - 4ms/step\n",
            "Epoch 24/50\n",
            "487/487 - 2s - loss: 0.0188 - val_loss: 0.0229 - 2s/epoch - 4ms/step\n",
            "Epoch 25/50\n",
            "487/487 - 2s - loss: 0.0185 - val_loss: 0.0187 - 2s/epoch - 4ms/step\n",
            "Epoch 26/50\n",
            "487/487 - 2s - loss: 0.0187 - val_loss: 0.0221 - 2s/epoch - 4ms/step\n",
            "Epoch 27/50\n",
            "487/487 - 2s - loss: 0.0181 - val_loss: 0.0185 - 2s/epoch - 4ms/step\n",
            "Epoch 28/50\n",
            "487/487 - 2s - loss: 0.0180 - val_loss: 0.0194 - 2s/epoch - 4ms/step\n",
            "Epoch 29/50\n",
            "487/487 - 2s - loss: 0.0180 - val_loss: 0.0178 - 2s/epoch - 5ms/step\n",
            "Epoch 30/50\n",
            "487/487 - 2s - loss: 0.0181 - val_loss: 0.0216 - 2s/epoch - 4ms/step\n",
            "Epoch 31/50\n",
            "487/487 - 2s - loss: 0.0177 - val_loss: 0.0190 - 2s/epoch - 4ms/step\n",
            "Epoch 32/50\n",
            "487/487 - 2s - loss: 0.0177 - val_loss: 0.0240 - 2s/epoch - 4ms/step\n",
            "Epoch 33/50\n",
            "487/487 - 2s - loss: 0.0176 - val_loss: 0.0201 - 2s/epoch - 4ms/step\n",
            "Epoch 34/50\n",
            "487/487 - 2s - loss: 0.0176 - val_loss: 0.0215 - 2s/epoch - 4ms/step\n",
            "Epoch 35/50\n",
            "487/487 - 2s - loss: 0.0176 - val_loss: 0.0235 - 2s/epoch - 4ms/step\n",
            "Epoch 36/50\n",
            "487/487 - 2s - loss: 0.0173 - val_loss: 0.0195 - 2s/epoch - 4ms/step\n",
            "Epoch 37/50\n",
            "487/487 - 2s - loss: 0.0171 - val_loss: 0.0215 - 2s/epoch - 4ms/step\n",
            "Epoch 38/50\n",
            "487/487 - 2s - loss: 0.0171 - val_loss: 0.0250 - 2s/epoch - 4ms/step\n",
            "Epoch 39/50\n",
            "487/487 - 2s - loss: 0.0170 - val_loss: 0.0183 - 2s/epoch - 5ms/step\n",
            "Epoch 40/50\n",
            "487/487 - 2s - loss: 0.0170 - val_loss: 0.0298 - 2s/epoch - 5ms/step\n",
            "Epoch 41/50\n",
            "487/487 - 2s - loss: 0.0173 - val_loss: 0.0220 - 2s/epoch - 4ms/step\n",
            "Epoch 42/50\n",
            "487/487 - 2s - loss: 0.0168 - val_loss: 0.0239 - 2s/epoch - 4ms/step\n",
            "Epoch 43/50\n",
            "487/487 - 2s - loss: 0.0171 - val_loss: 0.0253 - 2s/epoch - 5ms/step\n",
            "Epoch 44/50\n",
            "487/487 - 2s - loss: 0.0170 - val_loss: 0.0238 - 2s/epoch - 4ms/step\n",
            "Epoch 45/50\n",
            "487/487 - 2s - loss: 0.0167 - val_loss: 0.0270 - 2s/epoch - 4ms/step\n",
            "Epoch 46/50\n",
            "487/487 - 2s - loss: 0.0163 - val_loss: 0.0302 - 2s/epoch - 4ms/step\n",
            "Epoch 47/50\n",
            "487/487 - 2s - loss: 0.0163 - val_loss: 0.0225 - 2s/epoch - 4ms/step\n",
            "Epoch 48/50\n",
            "487/487 - 2s - loss: 0.0163 - val_loss: 0.0211 - 2s/epoch - 4ms/step\n",
            "Epoch 49/50\n",
            "487/487 - 2s - loss: 0.0162 - val_loss: 0.0237 - 2s/epoch - 4ms/step\n",
            "Epoch 50/50\n",
            "487/487 - 2s - loss: 0.0164 - val_loss: 0.0251 - 2s/epoch - 5ms/step\n"
          ]
        }
      ]
    },
    {
      "cell_type": "code",
      "source": [
        "# plot history\n",
        "pyplot.plot(history.history['loss'], label='train')\n",
        "pyplot.plot(history.history['val_loss'], label='test')\n",
        "pyplot.legend()\n",
        "pyplot.show()"
      ],
      "metadata": {
        "colab": {
          "base_uri": "https://localhost:8080/",
          "height": 265
        },
        "id": "jDfloVnLm2Bp",
        "outputId": "8c80d9d4-504e-4b7d-aef5-5f26d41dac03"
      },
      "execution_count": 21,
      "outputs": [
        {
          "output_type": "display_data",
          "data": {
            "text/plain": [
              "<Figure size 432x288 with 1 Axes>"
            ],
            "image/png": "[encoded data removed]"
          },
          "metadata": {
            "needs_background": "light"
          }
        }
      ]
    },
    {
      "cell_type": "code",
      "source": [
        "Y_pred = model.predict(test_X)\n",
        "\n",
        "mse = mean_squared_error(test_y, Y_pred)\n",
        "\n",
        "rmse = np.sqrt(mse)\n",
        "rmse"
      ],
      "metadata": {
        "colab": {
          "base_uri": "https://localhost:8080/"
        },
        "id": "3amid4nWnBSc",
        "outputId": "052d5151-f315-4bf2-fb50-6a3502c0d5e3"
      },
      "execution_count": 22,
      "outputs": [
        {
          "output_type": "execute_result",
          "data": {
            "text/plain": [
              "0.02993060459500642"
            ]
          },
          "metadata": {},
          "execution_count": 22
        }
      ]
    },
    {
      "cell_type": "code",
      "source": [
        "d = scaled_dataset[:8760,:]\n",
        "Y_predic = np.concatenate((Y_pred,d[:8760,1:]), axis =1)\n",
        "# print('concat y_pred',Y_pred.shape)\n",
        "print(Y_predic[0])\n",
        "Y_tested = np.concatenate((test_y, d[:8760,1:]), axis = 1)\n",
        "# print('concat Y_test', test_y.shape)"
      ],
      "metadata": {
        "colab": {
          "base_uri": "https://localhost:8080/"
        },
        "id": "7u947cwtnEHs",
        "outputId": "5817ec1a-6e2d-403a-b0f1-08ddff062953"
      },
      "execution_count": 117,
      "outputs": [
        {
          "output_type": "stream",
          "name": "stdout",
          "text": [
            "[0.52372336 0.24092133 0.61321832 0.03103044 0.55688809 0.19262007\n",
            " 0.59236179 0.00380735 0.42043586 0.19103092 0.61106557 0.20105082\n",
            " 0.52063079 0.         0.         0.        ]\n"
          ]
        }
      ]
    },
    {
      "cell_type": "code",
      "source": [
        "print(d)"
      ],
      "metadata": {
        "colab": {
          "base_uri": "https://localhost:8080/"
        },
        "id": "Lwm88qMrQnIU",
        "outputId": "286149d2-0f02-4543-aca6-584a6bea3e93"
      },
      "execution_count": 98,
      "outputs": [
        {
          "output_type": "stream",
          "name": "stdout",
          "text": [
            "[[0.5409399  0.24092133 0.61321832 ... 0.         0.         0.        ]\n",
            " [0.50539099 0.24373419 0.62044905 ... 0.         0.         0.        ]\n",
            " [0.49811449 0.24688035 0.63122022 ... 0.         0.         0.        ]\n",
            " ...\n",
            " [0.62861396 0.2775769  0.70616073 ... 0.         0.         0.        ]\n",
            " [0.60246142 0.26827476 0.71329914 ... 0.         0.         0.        ]\n",
            " [0.56354606 0.26256066 0.71682707 ... 0.         0.         0.        ]]\n"
          ]
        }
      ]
    },
    {
      "cell_type": "code",
      "source": [
        "test_y"
      ],
      "metadata": {
        "colab": {
          "base_uri": "https://localhost:8080/"
        },
        "id": "tZAqsLqqQoVI",
        "outputId": "3c274e58-bf81-431d-e997-0601f328cf83"
      },
      "execution_count": 99,
      "outputs": [
        {
          "output_type": "execute_result",
          "data": {
            "text/plain": [
              "array([[0.49409188],\n",
              "       [0.48525854],\n",
              "       [0.51780425],\n",
              "       ...,\n",
              "       [0.53149897],\n",
              "       [0.50939185],\n",
              "       [0.49572933]])"
            ]
          },
          "metadata": {},
          "execution_count": 99
        }
      ]
    },
    {
      "cell_type": "code",
      "source": [
        "print(Y_tested)"
      ],
      "metadata": {
        "colab": {
          "base_uri": "https://localhost:8080/"
        },
        "id": "VR1I7oFFQf0-",
        "outputId": "898cfdaa-afb3-433d-dd75-79c011dffbb0"
      },
      "execution_count": 97,
      "outputs": [
        {
          "output_type": "stream",
          "name": "stdout",
          "text": [
            "[[893.6865]\n",
            " [879.2323]\n",
            " [932.4876]\n",
            " ...\n",
            " [954.8966]\n",
            " [918.7222]\n",
            " [896.3659]]\n"
          ]
        }
      ]
    },
    {
      "cell_type": "code",
      "source": [
        "print(Y_predic)"
      ],
      "metadata": {
        "colab": {
          "base_uri": "https://localhost:8080/"
        },
        "id": "zvmGhUewDqWi",
        "outputId": "a2787120-9fd1-4ffc-93cb-ceb8cc27d185"
      },
      "execution_count": 91,
      "outputs": [
        {
          "output_type": "stream",
          "name": "stdout",
          "text": [
            "[[0.52372336 0.24092133 0.61321832 ... 0.         0.         0.        ]\n",
            " [0.53353381 0.24373419 0.62044905 ... 0.         0.         0.        ]\n",
            " [0.53015697 0.24688035 0.63122022 ... 0.         0.         0.        ]\n",
            " ...\n",
            " [0.54897988 0.2775769  0.70616073 ... 0.         0.         0.        ]\n",
            " [0.53664994 0.26827476 0.71329914 ... 0.         0.         0.        ]\n",
            " [0.51924825 0.26256066 0.71682707 ... 0.         0.         0.        ]]\n"
          ]
        }
      ]
    },
    {
      "cell_type": "code",
      "source": [
        "Y_tested.shape"
      ],
      "metadata": {
        "colab": {
          "base_uri": "https://localhost:8080/"
        },
        "id": "x-KP7nFMQRcd",
        "outputId": "f405d651-2920-411e-8c9a-564712dd7190"
      },
      "execution_count": 96,
      "outputs": [
        {
          "output_type": "execute_result",
          "data": {
            "text/plain": [
              "(8760, 1)"
            ]
          },
          "metadata": {},
          "execution_count": 96
        }
      ]
    },
    {
      "cell_type": "code",
      "source": [
        "d.shape"
      ],
      "metadata": {
        "colab": {
          "base_uri": "https://localhost:8080/"
        },
        "id": "rvi4Nmv9mQCE",
        "outputId": "9675f789-436a-47d6-b5ad-3b2406f7072c"
      },
      "execution_count": 24,
      "outputs": [
        {
          "output_type": "execute_result",
          "data": {
            "text/plain": [
              "(8760, 16)"
            ]
          },
          "metadata": {},
          "execution_count": 24
        }
      ]
    },
    {
      "cell_type": "code",
      "source": [
        "d"
      ],
      "metadata": {
        "colab": {
          "base_uri": "https://localhost:8080/"
        },
        "id": "mvlxkVJxmZO1",
        "outputId": "845331fe-ab81-4ffe-dfb4-d11e2cd9747b"
      },
      "execution_count": 25,
      "outputs": [
        {
          "output_type": "execute_result",
          "data": {
            "text/plain": [
              "array([[0.5409399 , 0.24092133, 0.61321832, ..., 0.        , 0.        ,\n",
              "        0.        ],\n",
              "       [0.50539099, 0.24373419, 0.62044905, ..., 0.        , 0.        ,\n",
              "        0.        ],\n",
              "       [0.49811449, 0.24688035, 0.63122022, ..., 0.        , 0.        ,\n",
              "        0.        ],\n",
              "       ...,\n",
              "       [0.62861396, 0.2775769 , 0.70616073, ..., 0.        , 0.        ,\n",
              "        0.        ],\n",
              "       [0.60246142, 0.26827476, 0.71329914, ..., 0.        , 0.        ,\n",
              "        0.        ],\n",
              "       [0.56354606, 0.26256066, 0.71682707, ..., 0.        , 0.        ,\n",
              "        0.        ]])"
            ]
          },
          "metadata": {},
          "execution_count": 25
        }
      ]
    },
    {
      "cell_type": "code",
      "source": [],
      "metadata": {
        "id": "QoSgSBCbwLTb"
      },
      "execution_count": 25,
      "outputs": []
    },
    {
      "cell_type": "code",
      "source": [
        "#Scaling back to the original scale\n",
        "Y_predicted = scaler.inverse_transform(Y_predic)\n",
        "Y_tested = scaler.inverse_transform(Y_tested)\n",
        "Y_predicted = Y_predicted[:,0:1]\n",
        "Y_tested = Y_tested[:,0:1]\n",
        "print('Y_tested', Y_tested.shape)\n",
        "print('Y_predicted', Y_predicted.shape)"
      ],
      "metadata": {
        "colab": {
          "base_uri": "https://localhost:8080/"
        },
        "id": "dFMaIGn3nH97",
        "outputId": "ae17a680-aaf4-41b5-f5a0-7dfbe01f13ad"
      },
      "execution_count": 26,
      "outputs": [
        {
          "output_type": "stream",
          "name": "stdout",
          "text": [
            "Y_tested (8760, 1)\n",
            "Y_predicted (8760, 1)\n"
          ]
        }
      ]
    },
    {
      "cell_type": "code",
      "source": [
        "Y_predicted"
      ],
      "metadata": {
        "colab": {
          "base_uri": "https://localhost:8080/"
        },
        "id": "ur5UxWhcwIY-",
        "outputId": "594dcd36-a31b-451d-904c-8cd5fc04ab6f"
      },
      "execution_count": 27,
      "outputs": [
        {
          "output_type": "execute_result",
          "data": {
            "text/plain": [
              "array([[942.17319069],\n",
              "       [958.22625386],\n",
              "       [952.70064969],\n",
              "       ...,\n",
              "       [983.5010114 ],\n",
              "       [963.32525102],\n",
              "       [934.85045337]])"
            ]
          },
          "metadata": {},
          "execution_count": 27
        }
      ]
    },
    {
      "cell_type": "code",
      "source": [
        "print(Y_tested)"
      ],
      "metadata": {
        "colab": {
          "base_uri": "https://localhost:8080/"
        },
        "id": "3vwGS1BRYkZN",
        "outputId": "f40057c0-cad8-48e8-b922-40c3d304e5f5"
      },
      "execution_count": 28,
      "outputs": [
        {
          "output_type": "stream",
          "name": "stdout",
          "text": [
            "[[893.6865]\n",
            " [879.2323]\n",
            " [932.4876]\n",
            " ...\n",
            " [954.8966]\n",
            " [918.7222]\n",
            " [896.3659]]\n"
          ]
        }
      ]
    },
    {
      "cell_type": "code",
      "source": [
        "print(Y_predicted)"
      ],
      "metadata": {
        "colab": {
          "base_uri": "https://localhost:8080/"
        },
        "id": "vOv7AvYYHzCX",
        "outputId": "ae9407cb-4df0-448b-a007-c640410dcd80"
      },
      "execution_count": 29,
      "outputs": [
        {
          "output_type": "stream",
          "name": "stdout",
          "text": [
            "[[942.17319069]\n",
            " [958.22625386]\n",
            " [952.70064969]\n",
            " ...\n",
            " [983.5010114 ]\n",
            " [963.32525102]\n",
            " [934.85045337]]\n"
          ]
        }
      ]
    },
    {
      "cell_type": "code",
      "source": [
        "#Plot the graph between actual vs predicted values\n",
        "pyplot.figure(figsize=(10,6))  \n",
        "pyplot.plot(Y_predicted[:100,:], color= 'blue',label = 'Predicted ')\n",
        "pyplot.plot(Y_tested[:100,:] , color = 'green',label = 'Actual ')\n",
        "pyplot.title(\" Prediction (Multivariate)\")\n",
        "pyplot.xlabel(\"Date\")\n",
        "pyplot.ylabel(\"demand\")\n",
        "pyplot.legend()\n",
        "pyplot.show()\n",
        "pyplot.savefig('graph.png')"
      ],
      "metadata": {
        "colab": {
          "base_uri": "https://localhost:8080/",
          "height": 421
        },
        "id": "hC7U5-ydnL_0",
        "outputId": "eaba598a-b18c-4dff-be51-be0fc6a250fa"
      },
      "execution_count": 30,
      "outputs": [
        {
          "output_type": "display_data",
          "data": {
            "text/plain": [
              "<Figure size 720x432 with 1 Axes>"
            ],
            "image/png": "[encoded data removed]"
          },
          "metadata": {
            "needs_background": "light"
          }
        },
        {
          "output_type": "display_data",
          "data": {
            "text/plain": [
              "<Figure size 432x288 with 0 Axes>"
            ]
          },
          "metadata": {}
        }
      ]
    },
    {
      "cell_type": "code",
      "source": [
        "test_dataset=pd.read_csv(\"/content/Test.csv\",header=0 ,index_col=0)\n",
        "\n",
        "dec_2019=dataset_train.iloc[43031:,:]\n",
        "\n",
        "total=pd.concat([dec_2019, test_dataset], axis=0)\n",
        "\n",
        "print(total)"
      ],
      "metadata": {
        "colab": {
          "base_uri": "https://localhost:8080/"
        },
        "id": "BMeTOU2v_SGu",
        "outputId": "11ec2a68-30c0-4bb0-f66d-0fe769229100"
      },
      "execution_count": 120,
      "outputs": [
        {
          "output_type": "stream",
          "name": "stdout",
          "text": [
            "                  nat_demand    T2M_toc  QV2M_toc   TQL_toc    W2M_toc  \\\n",
            "datetime                                                                 \n",
            "01-12-2019 00:00   1180.0710  25.967310  0.018335  0.059830  11.888873   \n",
            "01-12-2019 01:00   1142.1314  25.810022  0.018312  0.067047  12.166300   \n",
            "01-12-2019 02:00   1097.0180  25.681635  0.018274  0.068878  12.625126   \n",
            "01-12-2019 03:00   1071.9436  25.555353  0.018180  0.064697  13.087129   \n",
            "01-12-2019 04:00   1049.7786  25.464624  0.018035  0.051971  13.081646   \n",
            "...                      ...        ...       ...       ...        ...   \n",
            "31-01-2020 19:00      0.0000  26.784631  0.017690  0.010593  19.426609   \n",
            "31-01-2020 20:00      0.0000  26.414575  0.017881  0.008904  17.925048   \n",
            "31-01-2020 21:00      0.0000  26.165247  0.017990  0.008423  16.726263   \n",
            "31-01-2020 22:00      0.0000  25.979059  0.017997  0.010746  16.620787   \n",
            "31-01-2020 23:00      0.0000  25.821771  0.017967  0.016190  16.538011   \n",
            "\n",
            "                    T2M_san  QV2M_san   TQL_san   W2M_san    T2M_dav  \\\n",
            "datetime                                                               \n",
            "01-12-2019 00:00  23.146997  0.016954  0.014645  5.794295  22.482935   \n",
            "01-12-2019 01:00  22.708459  0.016709  0.017258  5.912000  22.317834   \n",
            "01-12-2019 02:00  22.416010  0.016542  0.021271  6.083387  22.166010   \n",
            "01-12-2019 03:00  22.219415  0.016426  0.025566  6.070908  22.024103   \n",
            "01-12-2019 04:00  22.089624  0.016326  0.030067  5.948212  21.894312   \n",
            "...                     ...       ...       ...       ...        ...   \n",
            "31-01-2020 19:00  25.604944  0.017454  0.061157  6.729619  23.565881   \n",
            "31-01-2020 20:00  24.805200  0.017110  0.051682  7.381728  22.813013   \n",
            "31-01-2020 21:00  24.149622  0.016761  0.041794  7.395275  22.219934   \n",
            "31-01-2020 22:00  23.643121  0.016563  0.038513  6.962887  21.807184   \n",
            "31-01-2020 23:00  23.306146  0.016456  0.038055  6.360548  21.524896   \n",
            "\n",
            "                  QV2M_dav   TQL_dav   W2M_dav  Holiday_ID  holiday  school  \n",
            "datetime                                                                     \n",
            "01-12-2019 00:00  0.016519  0.073608  3.488926           0        0       1  \n",
            "01-12-2019 01:00  0.016305  0.076263  3.544474           0        0       1  \n",
            "01-12-2019 02:00  0.016130  0.076691  3.677910           0        0       1  \n",
            "01-12-2019 03:00  0.015991  0.075287  3.750353           0        0       1  \n",
            "01-12-2019 04:00  0.015891  0.076080  3.851172           0        0       1  \n",
            "...                    ...       ...       ...         ...      ...     ...  \n",
            "31-01-2020 19:00  0.015554  0.007301  2.361485           0        0       0  \n",
            "31-01-2020 20:00  0.015466  0.010132  3.400858           0        0       0  \n",
            "31-01-2020 21:00  0.015453  0.012619  3.984798           0        0       0  \n",
            "31-01-2020 22:00  0.015407  0.015560  4.134717           0        0       0  \n",
            "31-01-2020 23:00  0.015266  0.018730  4.093148           0        0       0  \n",
            "\n",
            "[1488 rows x 16 columns]\n"
          ]
        }
      ]
    },
    {
      "cell_type": "code",
      "source": [
        "print(total.shape)\n"
      ],
      "metadata": {
        "colab": {
          "base_uri": "https://localhost:8080/"
        },
        "id": "6fxbjbbHe7A1",
        "outputId": "5506ce00-ce8d-46dd-ad19-a0bd1e5a9a70"
      },
      "execution_count": 121,
      "outputs": [
        {
          "output_type": "stream",
          "name": "stdout",
          "text": [
            "(1488, 16)\n"
          ]
        }
      ]
    },
    {
      "cell_type": "code",
      "source": [
        "values1 = total.values\n",
        "values1"
      ],
      "metadata": {
        "colab": {
          "base_uri": "https://localhost:8080/"
        },
        "id": "7Qx3Rzqme-Rd",
        "outputId": "5d6dad80-043c-4939-d9a2-772234bad2f1"
      },
      "execution_count": 122,
      "outputs": [
        {
          "output_type": "execute_result",
          "data": {
            "text/plain": [
              "array([[1.18007100e+03, 2.59673096e+01, 1.83345340e-02, ...,\n",
              "        0.00000000e+00, 0.00000000e+00, 1.00000000e+00],\n",
              "       [1.14213140e+03, 2.58100220e+01, 1.83116090e-02, ...,\n",
              "        0.00000000e+00, 0.00000000e+00, 1.00000000e+00],\n",
              "       [1.09701800e+03, 2.56816345e+01, 1.82737190e-02, ...,\n",
              "        0.00000000e+00, 0.00000000e+00, 1.00000000e+00],\n",
              "       ...,\n",
              "       [0.00000000e+00, 2.61652466e+01, 1.79896170e-02, ...,\n",
              "        0.00000000e+00, 0.00000000e+00, 0.00000000e+00],\n",
              "       [0.00000000e+00, 2.59790588e+01, 1.79973500e-02, ...,\n",
              "        0.00000000e+00, 0.00000000e+00, 0.00000000e+00],\n",
              "       [0.00000000e+00, 2.58217712e+01, 1.79670600e-02, ...,\n",
              "        0.00000000e+00, 0.00000000e+00, 0.00000000e+00]])"
            ]
          },
          "metadata": {},
          "execution_count": 122
        }
      ]
    },
    {
      "cell_type": "code",
      "source": [
        "scaler1 = MinMaxScaler(feature_range=(0, 1))\n",
        "scaled_dataset1 = scaler1.fit_transform(values1)\n",
        "print(scaled_dataset1[0])\n",
        "scaled_dataset1.shape"
      ],
      "metadata": {
        "colab": {
          "base_uri": "https://localhost:8080/"
        },
        "id": "jjVBH5pFe_rQ",
        "outputId": "a3fe1669-b208-4a89-e4a3-de1c68f377c3"
      },
      "execution_count": 123,
      "outputs": [
        {
          "output_type": "stream",
          "name": "stdout",
          "text": [
            "[0.68548373 0.29836212 0.5524668  0.20095325 0.26622123 0.21880516\n",
            " 0.30791103 0.04555257 0.2902652  0.1839891  0.45075621 0.21499539\n",
            " 0.45588252 0.         0.         1.        ]\n"
          ]
        },
        {
          "output_type": "execute_result",
          "data": {
            "text/plain": [
              "(1488, 16)"
            ]
          },
          "metadata": {},
          "execution_count": 123
        }
      ]
    },
    {
      "cell_type": "code",
      "source": [
        "def to_supervised(total):\n",
        "  window_size = 4\n",
        "  X1 = []\n",
        "  Y1 = []\n",
        "  for i in range(window_size, len(total)):\n",
        "    X1.append(total[i-window_size:i,:])\n",
        "    Y1.append(total[i,0:1])\n",
        "    \n",
        "  return X1,Y1\n",
        "X1, Y1 = to_supervised(scaled_dataset1)\n",
        "X1 = np.array(X1)\n",
        "Y1 = np.array(Y1)\n",
        "print('Y1' ,Y1.shape)\n",
        "print('X1' ,X1.shape)"
      ],
      "metadata": {
        "colab": {
          "base_uri": "https://localhost:8080/"
        },
        "id": "zbz--lFefC1P",
        "outputId": "72ead1b7-45eb-458a-aa48-e63286caf339"
      },
      "execution_count": 124,
      "outputs": [
        {
          "output_type": "stream",
          "name": "stdout",
          "text": [
            "Y1 (1484, 1)\n",
            "X1 (1484, 4, 16)\n"
          ]
        }
      ]
    },
    {
      "cell_type": "code",
      "source": [
        "Y_pred1 = model.predict(X1)"
      ],
      "metadata": {
        "id": "wpW1gXdmfHii"
      },
      "execution_count": 125,
      "outputs": []
    },
    {
      "cell_type": "code",
      "source": [
        "Y_pred1.shape"
      ],
      "metadata": {
        "colab": {
          "base_uri": "https://localhost:8080/"
        },
        "id": "_RzM_P6efK_R",
        "outputId": "750015f8-bb7a-4668-ab28-93d029809072"
      },
      "execution_count": 126,
      "outputs": [
        {
          "output_type": "execute_result",
          "data": {
            "text/plain": [
              "(1484, 1)"
            ]
          },
          "metadata": {},
          "execution_count": 126
        }
      ]
    },
    {
      "cell_type": "code",
      "source": [
        "scaled_dataset1.shape"
      ],
      "metadata": {
        "colab": {
          "base_uri": "https://localhost:8080/"
        },
        "id": "Z6C3_ChrfM_m",
        "outputId": "1679a72d-01c1-4dec-a6d2-32b210bc2334"
      },
      "execution_count": 127,
      "outputs": [
        {
          "output_type": "execute_result",
          "data": {
            "text/plain": [
              "(1488, 16)"
            ]
          },
          "metadata": {},
          "execution_count": 127
        }
      ]
    },
    {
      "cell_type": "code",
      "source": [
        "d = scaled_dataset1[:1484,:]\n",
        "Y_predicted_test = np.concatenate((Y_pred1,d[:1484,1:]), axis =1)\n",
        "Y_predicted_test"
      ],
      "metadata": {
        "colab": {
          "base_uri": "https://localhost:8080/"
        },
        "id": "VfgUU_rSfPCD",
        "outputId": "4022db71-a232-40d3-c1e3-67a96bbf512f"
      },
      "execution_count": 128,
      "outputs": [
        {
          "output_type": "execute_result",
          "data": {
            "text/plain": [
              "array([[0.6029591 , 0.29836212, 0.5524668 , ..., 0.        , 0.        ,\n",
              "        1.        ],\n",
              "       [0.59508365, 0.27707709, 0.54827206, ..., 0.        , 0.        ,\n",
              "        1.        ],\n",
              "       [0.58463889, 0.25970298, 0.54133906, ..., 0.        , 0.        ,\n",
              "        1.        ],\n",
              "       ...,\n",
              "       [0.09154707, 0.64243708, 0.33966464, ..., 0.        , 0.        ,\n",
              "        0.        ],\n",
              "       [0.07951725, 0.49536223, 0.3829987 , ..., 0.        , 0.        ,\n",
              "        0.        ],\n",
              "       [0.08018768, 0.40896664, 0.43461631, ..., 0.        , 0.        ,\n",
              "        0.        ]])"
            ]
          },
          "metadata": {},
          "execution_count": 128
        }
      ]
    },
    {
      "cell_type": "code",
      "source": [
        "Y_predicted_test = scaler1.inverse_transform(Y_predicted_test)\n",
        "Y_predicted_test = Y_predicted_test[:,0:1]\n",
        "\n",
        "print('Y_predicted_test', Y_predicted_test.shape)"
      ],
      "metadata": {
        "colab": {
          "base_uri": "https://localhost:8080/"
        },
        "id": "qIHU6_H8fSSJ",
        "outputId": "2022706d-6cb6-4408-a4bf-cf0359c11c17"
      },
      "execution_count": 129,
      "outputs": [
        {
          "output_type": "stream",
          "name": "stdout",
          "text": [
            "Y_predicted_test (1484, 1)\n"
          ]
        }
      ]
    },
    {
      "cell_type": "code",
      "source": [
        "Y_predicted_test"
      ],
      "metadata": {
        "colab": {
          "base_uri": "https://localhost:8080/"
        },
        "id": "pi1Wv1cRfVEh",
        "outputId": "9b8be8ac-2fa6-4f25-a8fa-c2df7274a801"
      },
      "execution_count": 130,
      "outputs": [
        {
          "output_type": "execute_result",
          "data": {
            "text/plain": [
              "array([[1038.00355097],\n",
              "       [1024.44585305],\n",
              "       [1006.46503417],\n",
              "       ...,\n",
              "       [ 157.59972162],\n",
              "       [ 136.89018619],\n",
              "       [ 138.0443472 ]])"
            ]
          },
          "metadata": {},
          "execution_count": 130
        }
      ]
    },
    {
      "cell_type": "code",
      "source": [
        "pyplot.figure(figsize=(10,6))  \n",
        "pyplot.plot(Y_predicted_test[:100,:], color= 'blue',label = 'Predicted ')\n",
        "pyplot.title(\" Prediction (Multivariate)\")\n",
        "pyplot.xlabel(\"Date\")\n",
        "pyplot.ylabel(\"demand\")\n",
        "pyplot.legend()\n",
        "pyplot.show()\n",
        "pyplot.savefig('graph.png')"
      ],
      "metadata": {
        "colab": {
          "base_uri": "https://localhost:8080/",
          "height": 421
        },
        "id": "n0-sbzXlfXtB",
        "outputId": "0fb34c7f-ae3b-44bd-8ba9-2c0e8426450d"
      },
      "execution_count": 131,
      "outputs": [
        {
          "output_type": "display_data",
          "data": {
            "text/plain": [
              "<Figure size 720x432 with 1 Axes>"
            ],
            "image/png": "[encoded data removed]"
          },
          "metadata": {
            "needs_background": "light"
          }
        },
        {
          "output_type": "display_data",
          "data": {
            "text/plain": [
              "<Figure size 432x288 with 0 Axes>"
            ]
          },
          "metadata": {}
        }
      ]
    },
    {
      "cell_type": "code",
      "source": [],
      "metadata": {
        "id": "VTQY-dYkfb_L"
      },
      "execution_count": null,
      "outputs": []
    }
  ]
}